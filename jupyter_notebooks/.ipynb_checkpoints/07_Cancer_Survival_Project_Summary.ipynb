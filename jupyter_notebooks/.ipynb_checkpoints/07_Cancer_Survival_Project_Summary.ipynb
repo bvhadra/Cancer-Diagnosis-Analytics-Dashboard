{
 "cells": [
  {
   "cell_type": "markdown",
   "id": "faa799f0",
   "metadata": {},
   "source": [
    "## Cancer Patient Survival Analysis - Project Summary\n",
    "\n",
    "### Introduction\n",
    "This project explores **cancer patient survival data** using **Tableau Public** to analyze trends in survival rates based on **age, chemotherapy, tumor stage, and gene mutations**.\n",
    "\n",
    "### Objectives:\n",
    "- Investigate **survival rates** among cancer patients.\n",
    "- Analyze **the impact of chemotherapy** on patient survival duration.\n",
    "- Evaluate **tumor stages** and their effect on survival.\n",
    "- Explore **gene mutations** and their correlation with survival.\n",
    "- Deliver an **interactive Tableau dashboard** for data visualization.\n",
    "\n",
    "---\n"
   ]
  },
  {
   "cell_type": "markdown",
   "id": "13efad98",
   "metadata": {},
   "source": [
    "## Dashboard Summary\n",
    "\n",
    "The **Tableau dashboard** contains **five key visualizations**:\n",
    "\n",
    "1. **Survival Distribution (Bar Chart):** \n",
    "   - Displays the proportion of patients who survived vs. those who did not.\n",
    "\n",
    "2. **Age Distribution (Histogram):** \n",
    "   - Shows the distribution of patient ages at diagnosis.\n",
    "\n",
    "3. **Chemotherapy Effect (Box Plot):** \n",
    "   - Compares survival duration between patients who received chemotherapy and those who did not.\n",
    "\n",
    "4. **Tumor Stage Impact (Stacked Bar Chart):** \n",
    "   - Analyzes the correlation between tumor stage and survival.\n",
    "\n",
    "5. **Gene Mutation Impact (Heatmap):** \n",
    "   - Identifies patterns between gene mutations and survival outcomes.\n",
    "\n",
    "Each visualization includes **interactive filters**, allowing users to explore data dynamically.\n"
   ]
  },
  {
   "cell_type": "markdown",
   "id": "4cd513cf",
   "metadata": {},
   "source": [
    "## Conclusions & Key Insights\n",
    "\n",
    "### **1. Survival Rates Show Clear Trends**\n",
    "- A significant proportion of patients survived beyond a specific threshold.\n",
    "- **Older patients tend to have lower survival rates**, especially in advanced tumor stages.\n",
    "\n",
    "### **2. Chemotherapy Effectiveness Varies**\n",
    "- Patients who received **chemotherapy generally have longer survival times** compared to those who did not.\n",
    "- The impact of chemotherapy differs depending on tumor stage.\n",
    "\n",
    "### **3. Tumor Stage Strongly Affects Survival**\n",
    "- **Higher tumor stages correlate with lower survival rates**.\n",
    "- Patients diagnosed at **earlier stages (I & II)** tend to have **better survival outcomes**.\n",
    "\n",
    "### **4. Certain Gene Mutations May Influence Survival**\n",
    "- The **BRCA1 and BRCA2 mutations** show a relationship with survival outcomes.\n",
    "- Patients with specific genetic mutations tend to have varying survival rates.\n",
    "\n",
    "### **Final Thoughts**\n",
    "This analysis provides **valuable insights for medical professionals and researchers** in cancer diagnosis and treatment strategies. Future recommendations:\n",
    "- **Apply machine learning models** for predictive analysis.\n",
    "- **Expand the dataset** to include more cancer types and treatment methods.\n",
    "\n",
    "---\n"
   ]
  }
 ],
 "metadata": {},
 "nbformat": 4,
 "nbformat_minor": 5
}
