{
 "cells": [
  {
   "cell_type": "markdown",
   "id": "3499673d",
   "metadata": {},
   "source": [
    "## Tableau Dashboard Development\n",
    "\n",
    "### Introduction\n",
    "This notebook focuses on developing an **interactive dashboard** using Tableau to visualize and analyze cancer-related healthcare data.\n",
    "\n",
    "### Objectives:\n",
    "- Perform **data cleaning and preprocessing**.\n",
    "- Identify key **health insights** using visualization techniques.\n",
    "- Guide the **step-by-step process** of building the dashboard in **Tableau**.\n",
    "\n",
    "---\n"
   ]
  },
  {
   "cell_type": "markdown",
   "id": "26cb6e8f",
   "metadata": {},
   "source": [
    "## Step 1: Data Preparation\n",
    "\n",
    "### Dataset Overview\n",
    "- **Dataset Name:** METABRIC_RNA_Mutation.csv\n",
    "- **Key Features:** Patient demographics, treatment type, mutation data, survival status.\n",
    "\n",
    "### Preprocessing Steps:\n",
    "- Handle missing values.\n",
    "- Convert categorical variables where necessary.\n",
    "- Export the cleaned dataset for use in **Tableau**.\n",
    "\n",
    "#### **Exporting the Cleaned Data for Tableau**\n",
    "To ensure that Tableau can process the dataset correctly, we will save the cleaned data as a CSV file.\n",
    "\n",
    "**Next Step:** Open **Tableau** and connect to this dataset.\n"
   ]
  },
  {
   "cell_type": "markdown",
   "id": "d98a60ec",
   "metadata": {},
   "source": [
    "## Step 2: Setting Up Tableau Dashboard\n",
    "\n",
    "### 1. **Load Data into Tableau**\n",
    "- Open **Tableau Desktop / Tableau Public**.\n",
    "- Click on **\"Connect to a File\" → Upload the Cleaned CSV file**.\n",
    "- Navigate to **Data Source View** and verify the imported columns.\n",
    "\n",
    "### 2. **Building Key Visualizations**\n",
    "#### **(A) Patient Survival Distribution**\n",
    "- **Chart Type:** Bar Chart\n",
    "- **X-axis:** Survival Status (Alive/Deceased)\n",
    "- **Y-axis:** Count of Patients\n",
    "\n",
    "#### **(B) Age Distribution of Patients**\n",
    "- **Chart Type:** Histogram\n",
    "- **X-axis:** Age at Diagnosis\n",
    "- **Y-axis:** Count of Patients\n",
    "\n",
    "#### **(C) Effectiveness of Chemotherapy**\n",
    "- **Chart Type:** Box Plot\n",
    "- **X-axis:** Chemotherapy (Yes/No)\n",
    "- **Y-axis:** Survival Time\n",
    "\n",
    "#### **(D) Gene Mutation vs Survival**\n",
    "- **Chart Type:** Heatmap\n",
    "- **X-axis:** Key Gene Mutations\n",
    "- **Y-axis:** Survival Outcome\n",
    "- **Color Encoding:** Mutation Frequency\n",
    "\n",
    "### 3. **Interactive Filters & Final Dashboard Setup**\n",
    "- Add filters for **Age, Treatment Type, and Mutation Type**.\n",
    "- Format the dashboard layout for **clarity and insights**.\n",
    "- **Publish the dashboard** on **Tableau Public** or export a screenshot for reporting.\n",
    "\n",
    "---\n"
   ]
  },
  {
   "cell_type": "markdown",
   "id": "d3285f8e",
   "metadata": {},
   "source": [
    "## Summary & Conclusion\n",
    "\n",
    "- We successfully prepared and visualized the **cancer healthcare dataset**.\n",
    "- Built an **interactive dashboard** in Tableau.\n",
    "- The **dashboard provides insights** into patient survival, treatment effectiveness, and gene mutations.\n",
    "\n",
    "### **Next Steps:**\n",
    "- Improve by adding **more interactive elements**.\n",
    "- Apply **advanced statistical analysis** in future iterations.\n",
    "\n",
    "---\n"
   ]
  }
 ],
 "metadata": {},
 "nbformat": 4,
 "nbformat_minor": 5
}
