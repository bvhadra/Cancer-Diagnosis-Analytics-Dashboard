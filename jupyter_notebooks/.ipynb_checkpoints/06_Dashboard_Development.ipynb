{
 "cells": [
  {
   "cell_type": "markdown",
   "id": "3499673d",
   "metadata": {},
   "source": [
    "## Tableau Dashboard Development\n",
    "\n",
    "### Introduction\n",
    "This notebook focuses on developing an **interactive dashboard** using Tableau to visualize and analyze cancer-related healthcare data.\n",
    "\n",
    "### Objectives:\n",
    "- Perform **data cleaning and preprocessing**.\n",
    "- Identify key **health insights** using visualization techniques.\n",
    "- Guide the **step-by-step process** of building the dashboard in **Tableau**.\n",
    "\n",
    "---\n"
   ]
  },
  {
   "cell_type": "markdown",
   "id": "f0ca004c",
   "metadata": {},
   "source": [
    "## Interactive Tableau Dashboard\n",
    "\n",
    "🔗 **[View the Dashboard Here](https://public.tableau.com/views/CancerPatientSurvivalAnalysis/CancerPatientSurvivalAnalysis?:language=en-GB&:sid=&:redirect=auth&:display_count=n&:origin=viz_share_link)**\n"
   ]
  },
  {
   "cell_type": "code",
   "execution_count": 1,
   "id": "13773fa6",
   "metadata": {},
   "outputs": [
    {
     "ename": "ImportError",
     "evalue": "cannot import name 'display' from 'IPython.core.display' (c:\\Users\\User\\Documents\\CODE INSTITUTE\\Final Project\\Cancer-Diagnosis-Analytics-Dashboard\\venv\\Lib\\site-packages\\IPython\\core\\display.py)",
     "output_type": "error",
     "traceback": [
      "\u001b[31m---------------------------------------------------------------------------\u001b[39m",
      "\u001b[31mImportError\u001b[39m                               Traceback (most recent call last)",
      "\u001b[36mCell\u001b[39m\u001b[36m \u001b[39m\u001b[32mIn[1]\u001b[39m\u001b[32m, line 1\u001b[39m\n\u001b[32m----> \u001b[39m\u001b[32m1\u001b[39m \u001b[38;5;28;01mfrom\u001b[39;00m\u001b[38;5;250m \u001b[39m\u001b[34;01mIPython\u001b[39;00m\u001b[34;01m.\u001b[39;00m\u001b[34;01mcore\u001b[39;00m\u001b[34;01m.\u001b[39;00m\u001b[34;01mdisplay\u001b[39;00m\u001b[38;5;250m \u001b[39m\u001b[38;5;28;01mimport\u001b[39;00m display, HTML\n\u001b[32m      3\u001b[39m \u001b[38;5;66;03m# Tableau Public URL\u001b[39;00m\n\u001b[32m      4\u001b[39m tableau_dashboard_url = \u001b[33m\"\u001b[39m\u001b[33mhttps://public.tableau.com/views/CancerPatientSurvivalAnalysis/CancerPatientSurvivalAnalysis?:language=en-GB&:sid=&:redirect=auth&:display_count=n&:origin=viz_share_link\u001b[39m\u001b[33m\"\u001b[39m\n",
      "\u001b[31mImportError\u001b[39m: cannot import name 'display' from 'IPython.core.display' (c:\\Users\\User\\Documents\\CODE INSTITUTE\\Final Project\\Cancer-Diagnosis-Analytics-Dashboard\\venv\\Lib\\site-packages\\IPython\\core\\display.py)"
     ]
    }
   ],
   "source": [
    "from IPython.core.display import display, HTML\n",
    "\n",
    "# Tableau Public URL\n",
    "tableau_dashboard_url = \"https://public.tableau.com/views/CancerPatientSurvivalAnalysis/CancerPatientSurvivalAnalysis?:language=en-GB&:sid=&:redirect=auth&:display_count=n&:origin=viz_share_link\"\n",
    "\n",
    "# Embed Tableau using an iframe\n",
    "iframe_code = f\"\"\"\n",
    "<iframe src=\"{tableau_dashboard_url}\" width=\"1000\" height=\"827\" frameborder=\"0\"></iframe>\n",
    "\"\"\"\n",
    "\n",
    "display(HTML(iframe_code))\n"
   ]
  }
 ],
 "metadata": {
  "kernelspec": {
   "display_name": "venv",
   "language": "python",
   "name": "python3"
  },
  "language_info": {
   "codemirror_mode": {
    "name": "ipython",
    "version": 3
   },
   "file_extension": ".py",
   "mimetype": "text/x-python",
   "name": "python",
   "nbconvert_exporter": "python",
   "pygments_lexer": "ipython3",
   "version": "3.11.2"
  }
 },
 "nbformat": 4,
 "nbformat_minor": 5
}
