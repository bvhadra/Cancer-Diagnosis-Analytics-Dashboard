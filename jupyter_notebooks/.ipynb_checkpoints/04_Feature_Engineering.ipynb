{
 "cells": [
  {
   "cell_type": "markdown",
   "id": "00913f7c",
   "metadata": {},
   "source": [
    "# **Feature Engineering**\n",
    "## **Objective**\n",
    "Feature engineering enhances the dataset by creating meaningful new features, encoding categorical data, and preparing the dataset for machine learning.\n",
    "\n",
    "## **Key Steps**\n",
    "- Create new features\n",
    "- Encode categorical variables\n",
    "- Normalize and scale numerical data\n",
    "- Select important features\n",
    "\n",
    "Let's start by loading the dataset."
   ]
  },
  {
   "cell_type": "code",
   "execution_count": 1,
   "id": "4848c5cb",
   "metadata": {},
   "outputs": [
    {
     "name": "stderr",
     "output_type": "stream",
     "text": [
      "C:\\Users\\User\\AppData\\Local\\Temp\\ipykernel_12980\\918362867.py:11: DtypeWarning: Columns (678,688,690,692) have mixed types. Specify dtype option on import or set low_memory=False.\n",
      "  df = pd.read_csv(file_path)\n"
     ]
    },
    {
     "data": {
      "text/plain": [
       "(1904, 693)"
      ]
     },
     "execution_count": 1,
     "metadata": {},
     "output_type": "execute_result"
    }
   ],
   "source": [
    "# Import required libraries\n",
    "import pandas as pd\n",
    "import numpy as np\n",
    "import matplotlib.pyplot as plt\n",
    "import seaborn as sns\n",
    "import plotly.express as px\n",
    "from sklearn.preprocessing import StandardScaler, LabelEncoder\n",
    "\n",
    "# Load dataset\n",
    "file_path = \"METABRIC_RNA_Mutation.csv\"\n",
    "df = pd.read_csv(file_path)\n",
    "\n",
    "# Display initial dataset shape\n",
    "df.shape\n"
   ]
  },
  {
   "cell_type": "markdown",
   "id": "25b09767",
   "metadata": {},
   "source": [
    "## **Creating New Features**\n",
    "We engineer new features that might provide additional insights."
   ]
  },
  {
   "cell_type": "code",
   "execution_count": 2,
   "id": "45afe820",
   "metadata": {},
   "outputs": [
    {
     "data": {
      "text/html": [
       "<div>\n",
       "<style scoped>\n",
       "    .dataframe tbody tr th:only-of-type {\n",
       "        vertical-align: middle;\n",
       "    }\n",
       "\n",
       "    .dataframe tbody tr th {\n",
       "        vertical-align: top;\n",
       "    }\n",
       "\n",
       "    .dataframe thead th {\n",
       "        text-align: right;\n",
       "    }\n",
       "</style>\n",
       "<table border=\"1\" class=\"dataframe\">\n",
       "  <thead>\n",
       "    <tr style=\"text-align: right;\">\n",
       "      <th></th>\n",
       "      <th>age_group</th>\n",
       "      <th>mutation_rate</th>\n",
       "    </tr>\n",
       "  </thead>\n",
       "  <tbody>\n",
       "    <tr>\n",
       "      <th>0</th>\n",
       "      <td>60-80</td>\n",
       "      <td>NaN</td>\n",
       "    </tr>\n",
       "    <tr>\n",
       "      <th>1</th>\n",
       "      <td>40-60</td>\n",
       "      <td>0.045259</td>\n",
       "    </tr>\n",
       "    <tr>\n",
       "      <th>2</th>\n",
       "      <td>40-60</td>\n",
       "      <td>0.040104</td>\n",
       "    </tr>\n",
       "    <tr>\n",
       "      <th>3</th>\n",
       "      <td>40-60</td>\n",
       "      <td>0.020542</td>\n",
       "    </tr>\n",
       "    <tr>\n",
       "      <th>4</th>\n",
       "      <td>60-80</td>\n",
       "      <td>0.025651</td>\n",
       "    </tr>\n",
       "  </tbody>\n",
       "</table>\n",
       "</div>"
      ],
      "text/plain": [
       "  age_group  mutation_rate\n",
       "0     60-80            NaN\n",
       "1     40-60       0.045259\n",
       "2     40-60       0.040104\n",
       "3     40-60       0.020542\n",
       "4     60-80       0.025651"
      ]
     },
     "execution_count": 2,
     "metadata": {},
     "output_type": "execute_result"
    }
   ],
   "source": [
    "# Example: Creating an age group feature\n",
    "df['age_group'] = pd.cut(df['age_at_diagnosis'], bins=[20, 40, 60, 80, 100], labels=['20-40', '40-60', '60-80', '80-100'])\n",
    "\n",
    "# Example: Creating a mutation rate feature\n",
    "df['mutation_rate'] = df['mutation_count'] / (df['age_at_diagnosis'] + 1)  # Avoid division by zero\n",
    "\n",
    "# Display new features\n",
    "df[['age_group', 'mutation_rate']].head()\n"
   ]
  },
  {
   "cell_type": "markdown",
   "id": "2b208224",
   "metadata": {},
   "source": [
    "## **Encoding Categorical Variables**\n",
    "We convert categorical variables into numerical values for modeling."
   ]
  },
  {
   "cell_type": "code",
   "execution_count": 3,
   "id": "89ca9de4",
   "metadata": {},
   "outputs": [
    {
     "data": {
      "text/html": [
       "<div>\n",
       "<style scoped>\n",
       "    .dataframe tbody tr th:only-of-type {\n",
       "        vertical-align: middle;\n",
       "    }\n",
       "\n",
       "    .dataframe tbody tr th {\n",
       "        vertical-align: top;\n",
       "    }\n",
       "\n",
       "    .dataframe thead th {\n",
       "        text-align: right;\n",
       "    }\n",
       "</style>\n",
       "<table border=\"1\" class=\"dataframe\">\n",
       "  <thead>\n",
       "    <tr style=\"text-align: right;\">\n",
       "      <th></th>\n",
       "      <th>type_of_breast_surgery</th>\n",
       "      <th>cancer_type</th>\n",
       "      <th>hormone_therapy</th>\n",
       "      <th>chemotherapy</th>\n",
       "      <th>age_group</th>\n",
       "    </tr>\n",
       "  </thead>\n",
       "  <tbody>\n",
       "    <tr>\n",
       "      <th>0</th>\n",
       "      <td>1</td>\n",
       "      <td>0</td>\n",
       "      <td>1</td>\n",
       "      <td>0</td>\n",
       "      <td>2</td>\n",
       "    </tr>\n",
       "    <tr>\n",
       "      <th>1</th>\n",
       "      <td>0</td>\n",
       "      <td>0</td>\n",
       "      <td>1</td>\n",
       "      <td>0</td>\n",
       "      <td>1</td>\n",
       "    </tr>\n",
       "    <tr>\n",
       "      <th>2</th>\n",
       "      <td>1</td>\n",
       "      <td>0</td>\n",
       "      <td>1</td>\n",
       "      <td>1</td>\n",
       "      <td>1</td>\n",
       "    </tr>\n",
       "    <tr>\n",
       "      <th>3</th>\n",
       "      <td>1</td>\n",
       "      <td>0</td>\n",
       "      <td>1</td>\n",
       "      <td>1</td>\n",
       "      <td>1</td>\n",
       "    </tr>\n",
       "    <tr>\n",
       "      <th>4</th>\n",
       "      <td>1</td>\n",
       "      <td>0</td>\n",
       "      <td>1</td>\n",
       "      <td>1</td>\n",
       "      <td>2</td>\n",
       "    </tr>\n",
       "  </tbody>\n",
       "</table>\n",
       "</div>"
      ],
      "text/plain": [
       "   type_of_breast_surgery  cancer_type  hormone_therapy  chemotherapy  \\\n",
       "0                       1            0                1             0   \n",
       "1                       0            0                1             0   \n",
       "2                       1            0                1             1   \n",
       "3                       1            0                1             1   \n",
       "4                       1            0                1             1   \n",
       "\n",
       "   age_group  \n",
       "0          2  \n",
       "1          1  \n",
       "2          1  \n",
       "3          1  \n",
       "4          2  "
      ]
     },
     "execution_count": 3,
     "metadata": {},
     "output_type": "execute_result"
    }
   ],
   "source": [
    "# Encode categorical variables using Label Encoding\n",
    "cat_cols = ['type_of_breast_surgery', 'cancer_type', 'hormone_therapy', 'chemotherapy', 'age_group']\n",
    "label_encoders = {}\n",
    "for col in cat_cols:\n",
    "    le = LabelEncoder()\n",
    "    df[col] = le.fit_transform(df[col].astype(str))\n",
    "    label_encoders[col] = le\n",
    "\n",
    "# Check transformed categorical variables\n",
    "df[cat_cols].head()\n"
   ]
  },
  {
   "cell_type": "markdown",
   "id": "4cc9aaf6",
   "metadata": {},
   "source": [
    "## **Normalizing and Scaling Numerical Features**\n",
    "We scale numerical features to ensure a uniform range."
   ]
  },
  {
   "cell_type": "code",
   "execution_count": 4,
   "id": "59412ed9",
   "metadata": {},
   "outputs": [
    {
     "data": {
      "text/html": [
       "<div>\n",
       "<style scoped>\n",
       "    .dataframe tbody tr th:only-of-type {\n",
       "        vertical-align: middle;\n",
       "    }\n",
       "\n",
       "    .dataframe tbody tr th {\n",
       "        vertical-align: top;\n",
       "    }\n",
       "\n",
       "    .dataframe thead th {\n",
       "        text-align: right;\n",
       "    }\n",
       "</style>\n",
       "<table border=\"1\" class=\"dataframe\">\n",
       "  <thead>\n",
       "    <tr style=\"text-align: right;\">\n",
       "      <th></th>\n",
       "      <th>age_at_diagnosis</th>\n",
       "      <th>mutation_count</th>\n",
       "      <th>overall_survival_months</th>\n",
       "      <th>mutation_rate</th>\n",
       "    </tr>\n",
       "  </thead>\n",
       "  <tbody>\n",
       "    <tr>\n",
       "      <th>0</th>\n",
       "      <td>1.122359</td>\n",
       "      <td>NaN</td>\n",
       "      <td>0.201518</td>\n",
       "      <td>NaN</td>\n",
       "    </tr>\n",
       "    <tr>\n",
       "      <th>1</th>\n",
       "      <td>-1.379317</td>\n",
       "      <td>-0.911280</td>\n",
       "      <td>-0.530544</td>\n",
       "      <td>-0.706721</td>\n",
       "    </tr>\n",
       "    <tr>\n",
       "      <th>2</th>\n",
       "      <td>-0.941562</td>\n",
       "      <td>-0.911280</td>\n",
       "      <td>0.505525</td>\n",
       "      <td>-0.777933</td>\n",
       "    </tr>\n",
       "    <tr>\n",
       "      <th>3</th>\n",
       "      <td>-1.033275</td>\n",
       "      <td>-1.157725</td>\n",
       "      <td>0.521686</td>\n",
       "      <td>-1.048173</td>\n",
       "    </tr>\n",
       "    <tr>\n",
       "      <th>4</th>\n",
       "      <td>1.224091</td>\n",
       "      <td>-0.911280</td>\n",
       "      <td>-1.097499</td>\n",
       "      <td>-0.977600</td>\n",
       "    </tr>\n",
       "  </tbody>\n",
       "</table>\n",
       "</div>"
      ],
      "text/plain": [
       "   age_at_diagnosis  mutation_count  overall_survival_months  mutation_rate\n",
       "0          1.122359             NaN                 0.201518            NaN\n",
       "1         -1.379317       -0.911280                -0.530544      -0.706721\n",
       "2         -0.941562       -0.911280                 0.505525      -0.777933\n",
       "3         -1.033275       -1.157725                 0.521686      -1.048173\n",
       "4          1.224091       -0.911280                -1.097499      -0.977600"
      ]
     },
     "execution_count": 4,
     "metadata": {},
     "output_type": "execute_result"
    }
   ],
   "source": [
    "# Scale numerical features using StandardScaler\n",
    "scaler = StandardScaler()\n",
    "num_cols = ['age_at_diagnosis', 'mutation_count', 'overall_survival_months', 'mutation_rate']\n",
    "df[num_cols] = scaler.fit_transform(df[num_cols])\n",
    "\n",
    "# Display scaled data\n",
    "df[num_cols].head()\n"
   ]
  }
 ],
 "metadata": {
  "kernelspec": {
   "display_name": "venv",
   "language": "python",
   "name": "python3"
  },
  "language_info": {
   "codemirror_mode": {
    "name": "ipython",
    "version": 3
   },
   "file_extension": ".py",
   "mimetype": "text/x-python",
   "name": "python",
   "nbconvert_exporter": "python",
   "pygments_lexer": "ipython3",
   "version": "3.11.2"
  }
 },
 "nbformat": 4,
 "nbformat_minor": 5
}
