{
 "cells": [
  {
   "cell_type": "markdown",
   "metadata": {},
   "source": [
    "# <center>Cancer Diagnosis Analytics Dashboard</center>"
   ]
  },
  {
   "cell_type": "markdown",
   "metadata": {},
   "source": [
    "# Exploratory Data Analysis"
   ]
  },
  {
   "cell_type": "markdown",
   "metadata": {},
   "source": [
    "This notebook performs comprehensive exploratory data analysis (EDA) on the METABRIC breast cancer dataset. We will examine patterns, distributions, and relationships within the data to establish a foundation for future predictive modeling and clinical insights."
   ]
  },
  {
   "cell_type": "markdown",
   "metadata": {},
   "source": [
    "## Objectives"
   ]
  },
  {
   "cell_type": "markdown",
   "metadata": {},
   "source": [
    "The objective of this notebook is to perform a thorough analysis of the METABRIC breast cancer dataset. The notebook will cover the following:"
   ]
  },
  {
   "cell_type": "markdown",
   "metadata": {},
   "source": [
    "### Distribution Analysis"
   ]
  },
  {
   "cell_type": "markdown",
   "metadata": {},
   "source": [
    "- Analyze survival rate distribution across molecular subtypes\n",
    "- Explore clinical parameter distributions by age groups\n",
    "- Examine gene expression patterns across different cancer types"
   ]
  },
  {
   "cell_type": "markdown",
   "metadata": {},
   "source": [
    "### Temporal Analysis"
   ]
  },
  {
   "cell_type": "markdown",
   "metadata": {},
   "source": [
    "- Evaluate survival time distribution patterns\n",
    "- Analyze diagnosis age trends\n",
    "- Explore treatment response over time"
   ]
  },
  {
   "cell_type": "markdown",
   "metadata": {},
   "source": [
    "### Patient-Specific Analysis"
   ]
  },
  {
   "cell_type": "markdown",
   "metadata": {},
   "source": [
    "- Calculate key metrics per patient\n",
    "- Identify patterns in mutation loads per patient\n",
    "- Analyze treatment combinations and outcomes"
   ]
  },
  {
   "cell_type": "markdown",
   "metadata": {},
   "source": [
    "### Feature Relationship Analysis"
   ]
  },
  {
   "cell_type": "markdown",
   "metadata": {},
   "source": [
    "- Examine correlations between clinical features\n",
    "- Explore relationships between genomic markers and survival\n",
    "- Identify potential predictive features for survival outcomes"
   ]
  },
  {
   "cell_type": "markdown",
   "metadata": {},
   "source": [
    "## Import Libraries"
   ]
  },
  {
   "cell_type": "code",
   "execution_count": 10,
   "metadata": {},
   "outputs": [
    {
     "name": "stdout",
     "output_type": "stream",
     "text": [
      "Created directory: ../static/images\n",
      "Notebook execution started at: 2025-03-16 23:59:21\n"
     ]
    }
   ],
   "source": [
    "# Import required libraries\n",
    "import pandas as pd\n",
    "import numpy as np\n",
    "import matplotlib.pyplot as plt\n",
    "import seaborn as sns\n",
    "import plotly.express as px\n",
    "import plotly.graph_objects as go\n",
    "import os\n",
    "from datetime import datetime\n",
    "from scipy import stats\n",
    "\n",
    "# Create directory for saving visualizations\n",
    "os.makedirs('../static/images', exist_ok=True)\n",
    "print(\"Created directory: ../static/images\")\n",
    "\n",
    "# Configure visualization settings\n",
    "plt.style.use('seaborn-v0_8-whitegrid')\n",
    "sns.set_theme(style=\"whitegrid\", font_scale=1.2)\n",
    "plt.rcParams['figure.figsize'] = (12, 8)\n",
    "plt.rcParams['axes.labelsize'] = 12\n",
    "\n",
    "# Display settings for pandas\n",
    "pd.set_option('display.max_columns', None)\n",
    "pd.set_option('display.max_rows', 50)\n",
    "pd.set_option('display.width', 1000)\n",
    "pd.set_option('display.float_format', '{:.2f}'.format)\n",
    "\n",
    "# Record execution time for performance tracking\n",
    "start_time = datetime.now()\n",
    "print(f\"Notebook execution started at: {start_time.strftime('%Y-%m-%d %H:%M:%S')}\")\n"
   ]
  },
  {
   "cell_type": "markdown",
   "metadata": {},
   "source": [
    "## 1. Data Loading"
   ]
  },
  {
   "cell_type": "code",
   "execution_count": 11,
   "metadata": {},
   "outputs": [
    {
     "name": "stdout",
     "output_type": "stream",
     "text": [
      "Processed dataset loaded successfully. Shape: (5, 2)\n",
      "\n",
      "--- First 5 rows of the processed dataset ---\n"
     ]
    },
    {
     "data": {
      "text/html": [
       "<div>\n",
       "<style scoped>\n",
       "    .dataframe tbody tr th:only-of-type {\n",
       "        vertical-align: middle;\n",
       "    }\n",
       "\n",
       "    .dataframe tbody tr th {\n",
       "        vertical-align: top;\n",
       "    }\n",
       "\n",
       "    .dataframe thead th {\n",
       "        text-align: right;\n",
       "    }\n",
       "</style>\n",
       "<table border=\"1\" class=\"dataframe\">\n",
       "  <thead>\n",
       "    <tr style=\"text-align: right;\">\n",
       "      <th></th>\n",
       "      <th>sample_id</th>\n",
       "      <th>gene1</th>\n",
       "    </tr>\n",
       "  </thead>\n",
       "  <tbody>\n",
       "    <tr>\n",
       "      <th>0</th>\n",
       "      <td>-1.41</td>\n",
       "      <td>-1.26</td>\n",
       "    </tr>\n",
       "    <tr>\n",
       "      <th>1</th>\n",
       "      <td>-0.71</td>\n",
       "      <td>-0.85</td>\n",
       "    </tr>\n",
       "    <tr>\n",
       "      <th>2</th>\n",
       "      <td>0.00</td>\n",
       "      <td>0.01</td>\n",
       "    </tr>\n",
       "    <tr>\n",
       "      <th>3</th>\n",
       "      <td>0.71</td>\n",
       "      <td>0.57</td>\n",
       "    </tr>\n",
       "    <tr>\n",
       "      <th>4</th>\n",
       "      <td>1.41</td>\n",
       "      <td>1.54</td>\n",
       "    </tr>\n",
       "  </tbody>\n",
       "</table>\n",
       "</div>"
      ],
      "text/plain": [
       "   sample_id  gene1\n",
       "0      -1.41  -1.26\n",
       "1      -0.71  -0.85\n",
       "2       0.00   0.01\n",
       "3       0.71   0.57\n",
       "4       1.41   1.54"
      ]
     },
     "metadata": {},
     "output_type": "display_data"
    }
   ],
   "source": [
    "# Load the processed dataset\n",
    "try:\n",
    "    df_processed = pd.read_csv('../data/processed/metabric_processed_full.csv')\n",
    "    print(f\"Processed dataset loaded successfully. Shape: {df_processed.shape}\")\n",
    "except FileNotFoundError:\n",
    "    print(\"ERROR: Processed file not found!\")\n",
    "    df_processed = None\n",
    "    \n",
    "# Display the first few rows of the dataset\n",
    "if df_processed is not None:\n",
    "    print(\"\\n--- First 5 rows of the processed dataset ---\")\n",
    "    display(df_processed.head())\n"
   ]
  },
  {
   "cell_type": "markdown",
   "metadata": {},
   "source": [
    "## 2. Distribution Analysis"
   ]
  },
  {
   "cell_type": "markdown",
   "metadata": {},
   "source": [
    "### 2.1 Survival Analysis by Molecular Subtype"
   ]
  },
  {
   "cell_type": "markdown",
   "metadata": {},
   "source": [
    "In this section, we'll analyze how survival rates vary across different molecular subtypes of breast cancer."
   ]
  },
  {
   "cell_type": "code",
   "execution_count": 12,
   "metadata": {},
   "outputs": [],
   "source": [
    "# Check if the necessary columns exist in the dataset\n",
    "if 'pam50_+_claudin-low_subtype' in df_processed.columns and 'overall_survival' in df_processed.columns:\n",
    "    # Group by molecular subtype and calculate survival rate\n",
    "    survival_by_subtype = df_processed.groupby('pam50_+_claudin-low_subtype')['overall_survival'].mean().reset_index()\n",
    "    survival_by_subtype = survival_by_subtype.rename(columns={'overall_survival': 'survival_rate'})\n",
    "    survival_by_subtype['survival_rate'] = survival_by_subtype['survival_rate'] * 100\n",
    "    \n",
    "    # Plot survival rates by subtype\n",
    "    plt.figure(figsize=(12, 8))\n",
    "    bar_plot = sns.barplot(x='pam50_+_claudin-low_subtype', y='survival_rate', data=survival_by_subtype)\n",
    "    \n",
    "    # Add percentage labels on top of bars\n",
    "    for i, p in enumerate(bar_plot.patches):\n",
    "        bar_plot.annotate(f\"{p.get_height():.1f}%\", \n",
    "                         (p.get_x() + p.get_width() / 2., p.get_height()), \n",
    "                         ha = 'center', va = 'bottom', fontsize=11)\n",
    "    \n",
    "    plt.title('Survival Rate by Molecular Subtype', fontsize=16)\n",
    "    plt.xlabel('Molecular Subtype', fontsize=14)\n",
    "    plt.ylabel('Survival Rate (%)', fontsize=14)\n",
    "    plt.xticks(rotation=45)\n",
    "    plt.tight_layout()\n",
    "    \n",
    "    # Save the figure with error handling\n",
    "    try:\n",
    "        plt.savefig('../static/images/survival_by_subtype.png')\n",
    "        print(\"Saved survival_by_subtype.png\")\n",
    "    except Exception as e:\n",
    "        print(f\"Error saving figure: {e}\")\n",
    "    \n",
    "    # Display the plot in the notebook\n",
    "    plt.show()\n",
    "    \n",
    "    # Save the data to a CSV file\n",
    "    try:\n",
    "        survival_by_subtype.to_csv('../data/processed/survival_by_subtype.csv', index=False)\n",
    "        print(\"Saved survival_by_subtype.csv\")\n",
    "    except Exception as e:\n",
    "        print(f\"Error saving CSV: {e}\")\n"
   ]
  },
  {
   "cell_type": "markdown",
   "metadata": {},
   "source": [
    "### 2.2 Distribution of Clinical Features by Age Group"
   ]
  },
  {
   "cell_type": "code",
   "execution_count": 13,
   "metadata": {},
   "outputs": [],
   "source": [
    "# Check if age column exists\n",
    "age_col = None\n",
    "if 'age_at_diagnosis' in df_processed.columns:\n",
    "    age_col = 'age_at_diagnosis'\n",
    "elif 'age' in df_processed.columns:\n",
    "    age_col = 'age'\n",
    "\n",
    "if age_col is not None:\n",
    "    # Create age groups\n",
    "    bins = [0, 40, 50, 60, 70, 80, 100]\n",
    "    labels = ['<40', '40-50', '50-60', '60-70', '70-80', '>80']\n",
    "    df_processed['age_group'] = pd.cut(df_processed[age_col], bins=bins, labels=labels)\n",
    "    \n",
    "    # Clinical features to analyze\n",
    "    clinical_features = ['tumor_size', 'lymph_nodes_examined_positive', 'mutation_count']\n",
    "    clinical_features = [f for f in clinical_features if f in df_processed.columns]\n",
    "    \n",
    "    if clinical_features:\n",
    "        # Plot boxplots for each clinical feature by age group\n",
    "        for feature in clinical_features:\n",
    "            plt.figure(figsize=(14, 8))\n",
    "            sns.boxplot(x='age_group', y=feature, data=df_processed)\n",
    "            plt.title(f'Distribution of {feature} by Age Group', fontsize=16)\n",
    "            plt.xlabel('Age Group', fontsize=14)\n",
    "            plt.ylabel(feature.replace('_', ' ').title(), fontsize=14)\n",
    "            plt.tight_layout()\n",
    "            \n",
    "            # Save the figure with error handling\n",
    "            try:\n",
    "                plt.savefig(f'../static/images/{feature}_by_age_group.png')\n",
    "                print(f\"Saved {feature}_by_age_group.png\")\n",
    "            except Exception as e:\n",
    "                print(f\"Error saving figure: {e}\")\n",
    "            \n",
    "            # Display the plot in the notebook\n",
    "            plt.show()\n"
   ]
  },
  {
   "cell_type": "markdown",
   "metadata": {},
   "source": [
    "### 2.3 Distribution of Tumour Characteristics"
   ]
  },
  {
   "cell_type": "markdown",
   "metadata": {},
   "source": []
  }
 ],
 "metadata": {
  "kernelspec": {
   "display_name": "venv",
   "language": "python",
   "name": "python3"
  },
  "language_info": {
   "codemirror_mode": {
    "name": "ipython",
    "version": 3
   },
   "file_extension": ".py",
   "mimetype": "text/x-python",
   "name": "python",
   "nbconvert_exporter": "python",
   "pygments_lexer": "ipython3",
   "version": "3.11.2"
  }
 },
 "nbformat": 4,
 "nbformat_minor": 2
}
